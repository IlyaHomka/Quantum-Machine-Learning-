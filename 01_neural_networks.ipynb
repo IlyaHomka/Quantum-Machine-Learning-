{
 "cells": [
  {
   "cell_type": "markdown",
   "id": "brilliant-cross",
   "metadata": {},
   "source": [
    "# Quantum Neural Networks\n",
    "\n",
    "This notebook demonstrates the different generic quantum neural network (QNN) implementations provided in Qiskit Machine Learning.\n",
    "The networks are meant as application-agnostic computational units that can be used for many different use cases. \n",
    "Depending on the application, a particular type of network might more or less suitable and might require to be set up in a particular way.\n",
    "The following different available neural networks will now be discussed in more detail:\n",
    "\n",
    "1. `NeuralNetwork`: The interface for neural networks.\n",
    "2. `OpflowQNN`: A network based on the evaluation of quantum mechanical observables.\n",
    "3. `TwoLayerQNN`: A special `OpflowQNN` implementation for convenience. \n",
    "3. `CircuitQNN`: A network based on the samples resulting from measuring a quantum circuit."
   ]
  },
  {
   "cell_type": "code",
   "execution_count": 1,
   "id": "annual-engine",
   "metadata": {},
   "outputs": [],
   "source": [
    "import numpy as np\n",
    "\n",
    "from qiskit import Aer, QuantumCircuit\n",
    "from qiskit.circuit import Parameter\n",
    "from qiskit.circuit.library import RealAmplitudes, ZZFeatureMap\n",
    "from qiskit.opflow import StateFn, PauliSumOp, AerPauliExpectation, ListOp, Gradient\n",
    "from qiskit.utils import QuantumInstance, algorithm_globals\n",
    "\n",
    "algorithm_globals.random_seed = 42"
   ]
  },
  {
   "cell_type": "code",
   "execution_count": 2,
   "id": "single-likelihood",
   "metadata": {},
   "outputs": [
    {
     "name": "stderr",
     "output_type": "stream",
     "text": [
      "<frozen importlib._bootstrap>:219: RuntimeWarning: scipy._lib.messagestream.MessageStream size changed, may indicate binary incompatibility. Expected 56 from C header, got 64 from PyObject\n"
     ]
    }
   ],
   "source": [
    "# set method to calculcate expected values\n",
    "expval = AerPauliExpectation()\n",
    "\n",
    "# define gradient method\n",
    "gradient = Gradient()\n",
    "\n",
    "# define quantum instances (statevector and sample based)\n",
    "backend =  Aer.get_backend(\"aer_simulator_statevector\")\n",
    "qi_sv = QuantumInstance(Aer.get_backend(\"aer_simulator_statevector\"))\n",
    "\n",
    "# we set shots to 10 as this will determine the number of samples later on.\n",
    "qi_qasm = QuantumInstance(Aer.get_backend(\"aer_simulator\"), shots=10)"
   ]
  },
  {
   "cell_type": "markdown",
   "id": "roman-lindsay",
   "metadata": {},
   "source": [
    "## 1. `NeuralNetwork`\n",
    "\n",
    "The `NeuralNetwork` represents the interface for all neural networks available in Qiskit Machine Learning.\n",
    "It exposes a forward and a backward pass taking the data samples and trainable weights as input.\n",
    "A `NeuralNetwork` does not contain any training capabilities, these are pushed to the actual algorithms / applications. Thus, a `NeuralNetwork` also does not store the values for trainable weights. In the following, different implementations of this interfaces are introduced.\n",
    "\n",
    "Suppose a `NeuralNetwork` called `nn`.\n",
    "Then, the `nn.forward(input, weights)` pass takes either flat inputs for the data and weights of size `nn.num_inputs` and `nn.num_weights`, respectively.\n",
    "`NeuralNetwork` supports batching of inputs and returns batches of output of the corresponding shape."
   ]
  },
  {
   "cell_type": "markdown",
   "id": "billion-uniform",
   "metadata": {},
   "source": [
    "## 2. `OpflowQNN`\n",
    "\n",
    "The `OpflowQNN` takes a (parametrized) operator from Qiskit and leverages Qiskit's gradient framework to provide the backward pass. \n",
    "Such an operator can for instance be an expected value of a quantum mechanical observable with respect to a parametrized quantum state. The Parameters can be used to load classical data as well as represent trainable weights.\n",
    "The `OpflowQNN` also allows lists of operators and more complex structures to construct more complex QNNs."
   ]
  },
  {
   "cell_type": "code",
   "execution_count": 3,
   "id": "separate-presence",
   "metadata": {},
   "outputs": [],
   "source": [
    "from qiskit_machine_learning.neural_networks import OpflowQNN"
   ]
  },
  {
   "cell_type": "code",
   "execution_count": 5,
   "id": "popular-artwork",
   "metadata": {},
   "outputs": [
    {
     "name": "stdout",
     "output_type": "stream",
     "text": [
      "ComposedOp([\n",
      "  OperatorMeasurement(1.0 * Z\n",
      "  + 1.0 * X),\n",
      "  CircuitStateFn(\n",
      "     ┌───┐┌────────────┐┌─────────────┐\n",
      "  q: ┤ H ├┤ Ry(input1) ├┤ Rx(weight1) ├\n",
      "     └───┘└────────────┘└─────────────┘\n",
      "  )\n",
      "])\n"
     ]
    }
   ],
   "source": [
    "# construct parametrized circuit\n",
    "params1 = [Parameter(\"input1\"), Parameter(\"weight1\")]\n",
    "qc1 = QuantumCircuit(1)\n",
    "qc1.h(0) # qubit to whom we apply opperations \n",
    "qc1.ry(params1[0], 0)\n",
    "qc1.rx(params1[1], 0)\n",
    "qc_sfn1 = StateFn(qc1)\n",
    "\n",
    "# construct cost operator\n",
    "H1 = StateFn(PauliSumOp.from_list([(\"Z\", 1.0), (\"X\", 1.0)]))\n",
    "\n",
    "# combine operator and circuit to objective function\n",
    "op1 = ~H1 @ qc_sfn1\n",
    "print(op1)"
   ]
  },
  {
   "cell_type": "code",
   "execution_count": 6,
   "id": "italian-clear",
   "metadata": {},
   "outputs": [],
   "source": [
    "# construct OpflowQNN with the operator, the input parameters, the weight parameters,\n",
    "# the expected value, gradient, and quantum instance.\n",
    "qnn1 = OpflowQNN(op1, [params1[0]], [params1[1]], expval, gradient, qi_sv)"
   ]
  },
  {
   "cell_type": "code",
   "execution_count": 7,
   "id": "forty-routine",
   "metadata": {},
   "outputs": [],
   "source": [
    "# define (random) input and weights\n",
    "input1 = algorithm_globals.random.random(qnn1.num_inputs)\n",
    "weights1 = algorithm_globals.random.random(qnn1.num_weights)"
   ]
  },
  {
   "cell_type": "code",
   "execution_count": 8,
   "id": "recovered-marriage",
   "metadata": {},
   "outputs": [
    {
     "data": {
      "text/plain": [
       "array([[0.08242345]])"
      ]
     },
     "execution_count": 8,
     "metadata": {},
     "output_type": "execute_result"
    }
   ],
   "source": [
    "# QNN forward pass\n",
    "qnn1.forward(input1, weights1)"
   ]
  },
  {
   "cell_type": "code",
   "execution_count": 9,
   "id": "approved-compound",
   "metadata": {},
   "outputs": [
    {
     "data": {
      "text/plain": [
       "array([[0.08242345],\n",
       "       [0.08242345]])"
      ]
     },
     "execution_count": 9,
     "metadata": {},
     "output_type": "execute_result"
    }
   ],
   "source": [
    "# QNN batched forward pass\n",
    "qnn1.forward([input1, input1], weights1)"
   ]
  },
  {
   "cell_type": "code",
   "execution_count": 10,
   "id": "considerable-embassy",
   "metadata": {},
   "outputs": [
    {
     "data": {
      "text/plain": [
       "(None, array([[[0.2970094]]]))"
      ]
     },
     "execution_count": 10,
     "metadata": {},
     "output_type": "execute_result"
    }
   ],
   "source": [
    "# QNN backward pass\n",
    "qnn1.backward(input1, weights1)"
   ]
  },
  {
   "cell_type": "code",
   "execution_count": 11,
   "id": "moved-matrix",
   "metadata": {},
   "outputs": [
    {
     "data": {
      "text/plain": [
       "(None,\n",
       " array([[[0.2970094]],\n",
       " \n",
       "        [[0.2970094]]]))"
      ]
     },
     "execution_count": 11,
     "metadata": {},
     "output_type": "execute_result"
    }
   ],
   "source": [
    "# QNN batched backward pass\n",
    "qnn1.backward([input1, input1], weights1)"
   ]
  },
  {
   "cell_type": "markdown",
   "id": "completed-dressing",
   "metadata": {},
   "source": [
    "Combining multiple observables in a `ListOp` also allows to create more complex QNNs"
   ]
  },
  {
   "cell_type": "code",
   "execution_count": 12,
   "id": "academic-roads",
   "metadata": {},
   "outputs": [],
   "source": [
    "op2 = ListOp([op1, op1])\n",
    "qnn2 = OpflowQNN(op2, [params1[0]], [params1[1]], expval, gradient, qi_sv)"
   ]
  },
  {
   "cell_type": "code",
   "execution_count": 13,
   "id": "important-density",
   "metadata": {},
   "outputs": [
    {
     "data": {
      "text/plain": [
       "array([[0.08242345, 0.08242345]])"
      ]
     },
     "execution_count": 13,
     "metadata": {},
     "output_type": "execute_result"
    }
   ],
   "source": [
    "# QNN forward pass\n",
    "qnn2.forward(input1, weights1)"
   ]
  },
  {
   "cell_type": "code",
   "execution_count": 14,
   "id": "informal-biology",
   "metadata": {},
   "outputs": [
    {
     "data": {
      "text/plain": [
       "(None,\n",
       " array([[[0.2970094],\n",
       "         [0.2970094]]]))"
      ]
     },
     "execution_count": 14,
     "metadata": {},
     "output_type": "execute_result"
    }
   ],
   "source": [
    "# QNN backward pass\n",
    "qnn2.backward(input1, weights1)"
   ]
  },
  {
   "cell_type": "markdown",
   "id": "bound-hypothesis",
   "metadata": {},
   "source": [
    "## 3. `TwoLayerQNN`\n",
    "\n",
    "The `TwoLayerQNN` is a special `OpflowQNN` on $n$ qubits that consists of first a feature map to insert data and second an ansatz that is trained. The default observable is $Z^{\\otimes n}$, i.e., parity."
   ]
  },
  {
   "cell_type": "code",
   "execution_count": 15,
   "id": "ready-accounting",
   "metadata": {},
   "outputs": [],
   "source": [
    "from qiskit_machine_learning.neural_networks import TwoLayerQNN"
   ]
  },
  {
   "cell_type": "code",
   "execution_count": 16,
   "id": "twelve-south",
   "metadata": {},
   "outputs": [],
   "source": [
    "# specify the number of qubits\n",
    "num_qubits = 3"
   ]
  },
  {
   "cell_type": "code",
   "execution_count": 17,
   "id": "artificial-mileage",
   "metadata": {},
   "outputs": [
    {
     "data": {
      "image/png": "[encoded data removed]",
      "text/plain": [
       "<Figure size 267.197x204.68 with 1 Axes>"
      ]
     },
     "execution_count": 17,
     "metadata": {},
     "output_type": "execute_result"
    }
   ],
   "source": [
    "# specify the feature map\n",
    "fm = ZZFeatureMap(num_qubits, reps=2)\n",
    "fm.draw(output=\"mpl\")"
   ]
  },
  {
   "cell_type": "code",
   "execution_count": 18,
   "id": "465675d6-27c3-4df3-a8c9-748cc44528e2",
   "metadata": {},
   "outputs": [
    {
     "data": {
      "image/png": "[encoded data removed]",
      "text/plain": [
       "<Figure size 1591.6x445.48 with 1 Axes>"
      ]
     },
     "execution_count": 18,
     "metadata": {},
     "output_type": "execute_result"
    }
   ],
   "source": [
    "from qiskit import Aer, transpile, assemble\n",
    "transpile(fm,backend).draw('mpl')"
   ]
  },
  {
   "cell_type": "code",
   "execution_count": 19,
   "id": "greater-latex",
   "metadata": {},
   "outputs": [
    {
     "data": {
      "image/png": "[encoded data removed]",
      "text/plain": [
       "<PIL.Image.Image image mode=RGB size=471x105 at 0x7F8006FF97F0>"
      ]
     },
     "execution_count": 19,
     "metadata": {},
     "output_type": "execute_result"
    }
   ],
   "source": [
    "# specify the ansatz\n",
    "ansatz = RealAmplitudes(num_qubits, reps=1)\n",
    "ansatz.draw(output=\"latex\")#mpl"
   ]
  },
  {
   "cell_type": "code",
   "execution_count": 20,
   "id": "anonymous-illness",
   "metadata": {},
   "outputs": [
    {
     "name": "stdout",
     "output_type": "stream",
     "text": [
      "1.0 * ZZZ\n"
     ]
    }
   ],
   "source": [
    "# specify the observable\n",
    "observable = PauliSumOp.from_list([(\"Z\" * num_qubits, 1)])\n",
    "print(observable)"
   ]
  },
  {
   "cell_type": "code",
   "execution_count": 21,
   "id": "novel-ownership",
   "metadata": {},
   "outputs": [],
   "source": [
    "# define two layer QNN\n",
    "qnn3 = TwoLayerQNN(\n",
    "    num_qubits, feature_map=fm, ansatz=ansatz, observable=observable, quantum_instance=qi_sv\n",
    ")"
   ]
  },
  {
   "cell_type": "code",
   "execution_count": 22,
   "id": "e6d091f2-8fa2-47df-bef3-1ed4ed4dcb1a",
   "metadata": {},
   "outputs": [
    {
     "data": {
      "image/png": "[encoded data removed]",
      "text/plain": [
       "<Figure size 1591.6x445.48 with 1 Axes>"
      ]
     },
     "execution_count": 22,
     "metadata": {},
     "output_type": "execute_result"
    }
   ],
   "source": [
    "transpile(qnn3.circuit,backend).draw('mpl')"
   ]
  },
  {
   "cell_type": "code",
   "execution_count": 23,
   "id": "patient-protocol",
   "metadata": {},
   "outputs": [],
   "source": [
    "# define (random) input and weights\n",
    "input3 = algorithm_globals.random.random(qnn3.num_inputs)\n",
    "weights3 = algorithm_globals.random.random(qnn3.num_weights)"
   ]
  },
  {
   "cell_type": "code",
   "execution_count": 24,
   "id": "sweet-complement",
   "metadata": {},
   "outputs": [
    {
     "data": {
      "text/plain": [
       "array([[0.18276559]])"
      ]
     },
     "execution_count": 24,
     "metadata": {},
     "output_type": "execute_result"
    }
   ],
   "source": [
    "# QNN forward pass\n",
    "qnn3.forward(input3, weights3)"
   ]
  },
  {
   "cell_type": "code",
   "execution_count": 25,
   "id": "golden-worcester",
   "metadata": {},
   "outputs": [
    {
     "data": {
      "text/plain": [
       "(None,\n",
       " array([[[ 0.10231208,  0.10656571,  0.41017902,  0.16528909,\n",
       "          -0.27780262,  0.41365763]]]))"
      ]
     },
     "execution_count": 25,
     "metadata": {},
     "output_type": "execute_result"
    }
   ],
   "source": [
    "# QNN backward pass\n",
    "qnn3.backward(input3, weights3)"
   ]
  },
  {
   "cell_type": "markdown",
   "id": "according-watch",
   "metadata": {},
   "source": [
    "## 4. `CircuitQNN`\n",
    "\n",
    "The `CircuitQNN` is based on a (parametrized) `QuantumCircuit`.\n",
    "This can take input as well as weight parameters and produces samples from the measurement. The samples can either be interpreted as probabilities of measuring the integer index corresponding to a bitstring or directly as a batch of binary output. In the case of probabilities, gradients can be estimated efficiently and the `CircuitQNN` provides a backward pass as well. In case of samples, differentiation is not possible and the backward pass returns `(None, None)`.\n",
    "\n",
    "Further, the `CircuitQNN` allows to specify an `interpret` function to post-process the samples. This is expected to take a measured integer (from a bitstring) and map it to a new index, i.e. non-negative integer. In this case, the output shape needs to be provided and the probabilities are aggregated accordingly.\n",
    "\n",
    "A `CircuitQNN` can be configured to return sparse as well as dense probability vectors. If no `interpret` function is used, the dimension of the probability vector scales exponentially with the number of qubits and a sparse recommendation is usually recommended. In case of an `interpret` function it depends on the expected outcome. If, for instance, an index is mapped to the parity of the corresponding bitstring, i.e., to 0 or 1, a dense output makes sense and the result will be a probability vector of length 2."
   ]
  },
  {
   "cell_type": "code",
   "execution_count": 26,
   "id": "posted-shoot",
   "metadata": {},
   "outputs": [],
   "source": [
    "from qiskit_machine_learning.neural_networks import CircuitQNN"
   ]
  },
  {
   "cell_type": "code",
   "execution_count": 27,
   "id": "acceptable-standing",
   "metadata": {},
   "outputs": [
    {
     "data": {
      "image/png": "[encoded data removed]",
      "text/plain": [
       "<Figure size 267.197x204.68 with 1 Axes>"
      ]
     },
     "execution_count": 27,
     "metadata": {},
     "output_type": "execute_result"
    }
   ],
   "source": [
    "qc = RealAmplitudes(num_qubits, entanglement=\"linear\", reps=1)\n",
    "qc.draw(output=\"mpl\")"
   ]
  },
  {
   "cell_type": "code",
   "execution_count": 28,
   "id": "616d1382-45d2-4e7d-8355-404b3a03392c",
   "metadata": {},
   "outputs": [
    {
     "data": {
      "image/png": "[encoded data removed]",
      "text/plain": [
       "<Figure size 327.397x204.68 with 1 Axes>"
      ]
     },
     "execution_count": 28,
     "metadata": {},
     "output_type": "execute_result"
    }
   ],
   "source": [
    "transpile(qc,backend).draw('mpl')"
   ]
  },
  {
   "cell_type": "markdown",
   "id": "extra-ebony",
   "metadata": {},
   "source": [
    "### 4.1 Output: sparse integer probabilities"
   ]
  },
  {
   "cell_type": "code",
   "execution_count": 30,
   "id": "5bab394c-ed7c-414b-8e6e-d08a2bebf09b",
   "metadata": {},
   "outputs": [
    {
     "name": "stdout",
     "output_type": "stream",
     "text": [
      "Requirement already satisfied: qiskit-machine-learning[sparse] in /opt/conda/lib/python3.8/site-packages (0.4.0)\n",
      "Requirement already satisfied: qiskit-terra>=0.20.0 in /opt/conda/lib/python3.8/site-packages (from qiskit-machine-learning[sparse]) (0.20.0)\n",
      "Requirement already satisfied: setuptools>=40.1.0 in /opt/conda/lib/python3.8/site-packages (from qiskit-machine-learning[sparse]) (61.2.0)\n",
      "Requirement already satisfied: scikit-learn>=0.20.0 in /opt/conda/lib/python3.8/site-packages (from qiskit-machine-learning[sparse]) (1.1.0)\n",
      "Requirement already satisfied: dill>=0.3.4 in /opt/conda/lib/python3.8/site-packages (from qiskit-machine-learning[sparse]) (0.3.4)\n",
      "Requirement already satisfied: fastdtw in /opt/conda/lib/python3.8/site-packages (from qiskit-machine-learning[sparse]) (0.3.4)\n",
      "Requirement already satisfied: scipy>=1.4 in /opt/conda/lib/python3.8/site-packages (from qiskit-machine-learning[sparse]) (1.8.0)\n",
      "Requirement already satisfied: numpy>=1.17 in /opt/conda/lib/python3.8/site-packages (from qiskit-machine-learning[sparse]) (1.21.5)\n",
      "Requirement already satisfied: psutil>=5 in /opt/conda/lib/python3.8/site-packages (from qiskit-machine-learning[sparse]) (5.9.0)\n",
      "Collecting sparse\n",
      "  Using cached sparse-0.13.0-py2.py3-none-any.whl (77 kB)\n",
      "Requirement already satisfied: tweedledum<2.0,>=1.1 in /opt/conda/lib/python3.8/site-packages (from qiskit-terra>=0.20.0->qiskit-machine-learning[sparse]) (1.1.1)\n",
      "Requirement already satisfied: retworkx>=0.11.0 in /opt/conda/lib/python3.8/site-packages (from qiskit-terra>=0.20.0->qiskit-machine-learning[sparse]) (0.11.0)\n",
      "Requirement already satisfied: stevedore>=3.0.0 in /opt/conda/lib/python3.8/site-packages (from qiskit-terra>=0.20.0->qiskit-machine-learning[sparse]) (3.5.0)\n",
      "Requirement already satisfied: sympy>=1.3 in /opt/conda/lib/python3.8/site-packages (from qiskit-terra>=0.20.0->qiskit-machine-learning[sparse]) (1.10.1)\n",
      "Requirement already satisfied: ply>=3.10 in /opt/conda/lib/python3.8/site-packages (from qiskit-terra>=0.20.0->qiskit-machine-learning[sparse]) (3.11)\n",
      "Requirement already satisfied: python-constraint>=1.4 in /opt/conda/lib/python3.8/site-packages (from qiskit-terra>=0.20.0->qiskit-machine-learning[sparse]) (1.4.0)\n",
      "Requirement already satisfied: python-dateutil>=2.8.0 in /opt/conda/lib/python3.8/site-packages (from qiskit-terra>=0.20.0->qiskit-machine-learning[sparse]) (2.8.2)\n",
      "Requirement already satisfied: symengine>=0.9 in /opt/conda/lib/python3.8/site-packages (from qiskit-terra>=0.20.0->qiskit-machine-learning[sparse]) (0.9.2)\n",
      "Requirement already satisfied: six>=1.5 in /opt/conda/lib/python3.8/site-packages (from python-dateutil>=2.8.0->qiskit-terra>=0.20.0->qiskit-machine-learning[sparse]) (1.16.0)\n",
      "Requirement already satisfied: threadpoolctl>=2.0.0 in /opt/conda/lib/python3.8/site-packages (from scikit-learn>=0.20.0->qiskit-machine-learning[sparse]) (3.1.0)\n",
      "Requirement already satisfied: joblib>=1.0.0 in /opt/conda/lib/python3.8/site-packages (from scikit-learn>=0.20.0->qiskit-machine-learning[sparse]) (1.1.0)\n",
      "Requirement already satisfied: pbr!=2.1.0,>=2.0.0 in /opt/conda/lib/python3.8/site-packages (from stevedore>=3.0.0->qiskit-terra>=0.20.0->qiskit-machine-learning[sparse]) (5.8.1)\n",
      "Requirement already satisfied: mpmath>=0.19 in /opt/conda/lib/python3.8/site-packages (from sympy>=1.3->qiskit-terra>=0.20.0->qiskit-machine-learning[sparse]) (1.2.1)\n",
      "Requirement already satisfied: numba>=0.49 in /opt/conda/lib/python3.8/site-packages (from sparse->qiskit-machine-learning[sparse]) (0.55.1)\n",
      "Requirement already satisfied: llvmlite<0.39,>=0.38.0rc1 in /opt/conda/lib/python3.8/site-packages (from numba>=0.49->sparse->qiskit-machine-learning[sparse]) (0.38.0)\n",
      "Installing collected packages: sparse\n",
      "Successfully installed sparse-0.13.0\n",
      "Note: you may need to restart the kernel to use updated packages.\n"
     ]
    }
   ],
   "source": [
    "pip install 'qiskit-machine-learning[sparse]'"
   ]
  },
  {
   "cell_type": "code",
   "execution_count": 31,
   "id": "indoor-disorder",
   "metadata": {},
   "outputs": [
    {
     "name": "stdout",
     "output_type": "stream",
     "text": [
      "Traceback \u001b[1;36m(most recent call last)\u001b[0m:\n",
      "  Input \u001b[0;32mIn [31]\u001b[0m in \u001b[0;35m<cell line: 2>\u001b[0m\n",
      "    qnn4 = CircuitQNN(qc, [], qc.parameters, sparse=True, quantum_instance=qi_qasm)\n",
      "  File \u001b[0;32m/opt/conda/lib/python3.8/site-packages/qiskit_machine_learning/neural_networks/circuit_qnn.py:109\u001b[0m in \u001b[0;35m__init__\u001b[0m\n",
      "    _optionals.HAS_SPARSE.require_now(\"DOK\")\n",
      "\u001b[1;36m  File \u001b[1;32m/opt/conda/lib/python3.8/site-packages/qiskit/utils/lazy_tester.py:223\u001b[1;36m in \u001b[1;35mrequire_now\u001b[1;36m\u001b[0m\n",
      "\u001b[1;33m    raise MissingOptionalLibraryError(\u001b[0m\n",
      "\u001b[1;31mMissingOptionalLibraryError\u001b[0m\u001b[1;31m:\u001b[0m The 'sparse' library is required to use 'DOK'. You can install it with 'pip install 'qiskit-machine-learning[sparse]''.\n",
      "\n",
      "Use %tb to get the full traceback.\n"
     ]
    },
    {
     "data": {
      "text/html": [
       "\n",
       "<style>\n",
       ".button {\n",
       "  border: none;\n",
       "  color: white;\n",
       "  padding: 4px 8px;\n",
       "  text-align: center;\n",
       "  text-decoration: none;\n",
       "  display: inline-block;\n",
       "  font-size: 12px;\n",
       "  margin: 4px 2px;\n",
       "  transition-duration: 0.2s;\n",
       "  cursor: pointer;\n",
       "}\n",
       ".iqx-button {\n",
       "  background-color: #0f62fe; \n",
       "  color: white; \n",
       "}\n",
       ".iqx-button:hover {\n",
       "  background-color: #0043ce;\n",
       "  color: white;\n",
       "}\n",
       "</style>\n",
       "<a href=\"https://stackoverflow.com/search?q=MissingOptionalLibraryError: The 'sparse' library is required to use 'DOK'. You can install it with 'pip install 'qiskit-machine-learning[sparse]''.\" target='_blank'><button class='button iqx-button'>Search for solution online</button></a>\n"
      ],
      "text/plain": [
       "<IPython.core.display.HTML object>"
      ]
     },
     "metadata": {},
     "output_type": "display_data"
    }
   ],
   "source": [
    "# specify circuit QNN\n",
    "qnn4 = CircuitQNN(qc, [], qc.parameters, sparse=True, quantum_instance=qi_qasm)"
   ]
  },
  {
   "cell_type": "code",
   "execution_count": 26,
   "id": "beneficial-summary",
   "metadata": {},
   "outputs": [],
   "source": [
    "# define (random) input and weights\n",
    "input4 = algorithm_globals.random.random(qnn4.num_inputs)\n",
    "weights4 = algorithm_globals.random.random(qnn4.num_weights)"
   ]
  },
  {
   "cell_type": "code",
   "execution_count": 27,
   "id": "jewish-elements",
   "metadata": {},
   "outputs": [
    {
     "data": {
      "text/plain": [
       "array([[0.6, 0.1, 0. , 0. , 0. , 0. , 0. , 0.3]])"
      ]
     },
     "execution_count": 27,
     "metadata": {},
     "output_type": "execute_result"
    }
   ],
   "source": [
    "# QNN forward pass\n",
    "qnn4.forward(input4, weights4).todense()  # returned as a sparse matrix"
   ]
  },
  {
   "cell_type": "code",
   "execution_count": 28,
   "id": "entitled-reaction",
   "metadata": {
    "scrolled": true
   },
   "outputs": [
    {
     "data": {
      "text/plain": [
       "(None, <COO: shape=(1, 8, 6), dtype=float64, nnz=33, fill_value=0.0>)"
      ]
     },
     "execution_count": 28,
     "metadata": {},
     "output_type": "execute_result"
    }
   ],
   "source": [
    "# QNN backward pass, returns a tuple of sparse matrices\n",
    "qnn4.backward(input4, weights4)"
   ]
  },
  {
   "cell_type": "markdown",
   "id": "happy-glossary",
   "metadata": {},
   "source": [
    "### 4.2 Output: dense parity probabilities"
   ]
  },
  {
   "cell_type": "code",
   "execution_count": 29,
   "id": "potential-database",
   "metadata": {},
   "outputs": [],
   "source": [
    "# specify circuit QNN\n",
    "parity = lambda x: \"{:b}\".format(x).count(\"1\") % 2\n",
    "output_shape = 2  # this is required in case of a callable with dense output\n",
    "qnn6 = CircuitQNN(\n",
    "    qc,\n",
    "    [],\n",
    "    qc.parameters,\n",
    "    sparse=False,\n",
    "    interpret=parity,\n",
    "    output_shape=output_shape,\n",
    "    quantum_instance=qi_qasm,\n",
    ")"
   ]
  },
  {
   "cell_type": "code",
   "execution_count": 30,
   "id": "pending-series",
   "metadata": {},
   "outputs": [],
   "source": [
    "# define (random) input and weights\n",
    "input6 = algorithm_globals.random.random(qnn6.num_inputs)\n",
    "weights6 = algorithm_globals.random.random(qnn6.num_weights)"
   ]
  },
  {
   "cell_type": "code",
   "execution_count": 31,
   "id": "driven-stomach",
   "metadata": {},
   "outputs": [
    {
     "data": {
      "text/plain": [
       "array([[0.5, 0.5]])"
      ]
     },
     "execution_count": 31,
     "metadata": {},
     "output_type": "execute_result"
    }
   ],
   "source": [
    "# QNN forward pass\n",
    "qnn6.forward(input6, weights6)"
   ]
  },
  {
   "cell_type": "code",
   "execution_count": 32,
   "id": "lightweight-federation",
   "metadata": {
    "scrolled": true
   },
   "outputs": [
    {
     "data": {
      "text/plain": [
       "(None,\n",
       " array([[[-0.2 ,  0.1 , -0.15, -0.15,  0.15, -0.15],\n",
       "         [ 0.2 , -0.1 ,  0.15,  0.15, -0.15,  0.15]]]))"
      ]
     },
     "execution_count": 32,
     "metadata": {},
     "output_type": "execute_result"
    }
   ],
   "source": [
    "# QNN backward pass\n",
    "qnn6.backward(input6, weights6)"
   ]
  },
  {
   "cell_type": "markdown",
   "id": "limited-blast",
   "metadata": {},
   "source": [
    "### 4.3 Output: Samples"
   ]
  },
  {
   "cell_type": "code",
   "execution_count": 33,
   "id": "apart-algebra",
   "metadata": {},
   "outputs": [],
   "source": [
    "# specify circuit QNN\n",
    "qnn7 = CircuitQNN(qc, [], qc.parameters, sampling=True, quantum_instance=qi_qasm)"
   ]
  },
  {
   "cell_type": "code",
   "execution_count": 34,
   "id": "laughing-techno",
   "metadata": {},
   "outputs": [],
   "source": [
    "# define (random) input and weights\n",
    "input7 = algorithm_globals.random.random(qnn7.num_inputs)\n",
    "weights7 = algorithm_globals.random.random(qnn7.num_weights)"
   ]
  },
  {
   "cell_type": "code",
   "execution_count": 35,
   "id": "everyday-norwegian",
   "metadata": {
    "scrolled": true
   },
   "outputs": [
    {
     "data": {
      "text/plain": [
       "array([[[0.],\n",
       "        [1.],\n",
       "        [0.],\n",
       "        [7.],\n",
       "        [0.],\n",
       "        [6.],\n",
       "        [0.],\n",
       "        [0.],\n",
       "        [1.],\n",
       "        [6.]]])"
      ]
     },
     "execution_count": 35,
     "metadata": {},
     "output_type": "execute_result"
    }
   ],
   "source": [
    "# QNN forward pass, results in samples of measured bit strings mapped to integers\n",
    "qnn7.forward(input7, weights7)"
   ]
  },
  {
   "cell_type": "code",
   "execution_count": 36,
   "id": "balanced-korea",
   "metadata": {},
   "outputs": [
    {
     "data": {
      "text/plain": [
       "(None, None)"
      ]
     },
     "execution_count": 36,
     "metadata": {},
     "output_type": "execute_result"
    }
   ],
   "source": [
    "# QNN backward pass\n",
    "qnn7.backward(input7, weights7)"
   ]
  },
  {
   "cell_type": "markdown",
   "id": "biological-thunder",
   "metadata": {},
   "source": [
    "### 4.4 Output: Parity Samples"
   ]
  },
  {
   "cell_type": "code",
   "execution_count": 37,
   "id": "broke-jonathan",
   "metadata": {},
   "outputs": [],
   "source": [
    "# specify circuit QNN\n",
    "qnn8 = CircuitQNN(qc, [], qc.parameters, sampling=True, interpret=parity, quantum_instance=qi_qasm)"
   ]
  },
  {
   "cell_type": "code",
   "execution_count": 38,
   "id": "satisfied-graph",
   "metadata": {},
   "outputs": [],
   "source": [
    "# define (random) input and weights\n",
    "input8 = algorithm_globals.random.random(qnn8.num_inputs)\n",
    "weights8 = algorithm_globals.random.random(qnn8.num_weights)"
   ]
  },
  {
   "cell_type": "code",
   "execution_count": 39,
   "id": "promotional-trash",
   "metadata": {},
   "outputs": [
    {
     "data": {
      "text/plain": [
       "array([[[0.],\n",
       "        [1.],\n",
       "        [1.],\n",
       "        [0.],\n",
       "        [1.],\n",
       "        [0.],\n",
       "        [0.],\n",
       "        [0.],\n",
       "        [1.],\n",
       "        [1.]]])"
      ]
     },
     "execution_count": 39,
     "metadata": {},
     "output_type": "execute_result"
    }
   ],
   "source": [
    "# QNN forward pass, results in samples of measured bit strings\n",
    "qnn8.forward(input8, weights8)"
   ]
  },
  {
   "cell_type": "code",
   "execution_count": 40,
   "id": "freelance-alfred",
   "metadata": {},
   "outputs": [
    {
     "data": {
      "text/plain": [
       "(None, None)"
      ]
     },
     "execution_count": 40,
     "metadata": {},
     "output_type": "execute_result"
    }
   ],
   "source": [
    "# QNN backward pass\n",
    "qnn8.backward(input8, weights8)"
   ]
  },
  {
   "cell_type": "code",
   "execution_count": 43,
   "id": "appointed-shirt",
   "metadata": {},
   "outputs": [
    {
     "data": {
      "text/html": [
       "<h3>Version Information</h3><table><tr><th>Qiskit Software</th><th>Version</th></tr><tr><td><code>qiskit-terra</code></td><td>0.19.0</td></tr><tr><td><code>qiskit-aer</code></td><td>0.9.0</td></tr><tr><td><code>qiskit-ignis</code></td><td>0.7.0</td></tr><tr><td><code>qiskit-ibmq-provider</code></td><td>0.17.0</td></tr><tr><td><code>qiskit-aqua</code></td><td>0.10.0</td></tr><tr><td><code>qiskit-machine-learning</code></td><td>0.3.0</td></tr><tr><th>System information</th></tr><tr><td>Python</td><td>3.8.10 (default, Jun  2 2021, 10:49:15) \n",
       "[GCC 9.4.0]</td></tr><tr><td>OS</td><td>Linux</td></tr><tr><td>CPUs</td><td>4</td></tr><tr><td>Memory (Gb)</td><td>7.6849517822265625</td></tr><tr><td colspan='2'>Sat Aug 28 01:04:52 2021 IST</td></tr></table>"
      ],
      "text/plain": [
       "<IPython.core.display.HTML object>"
      ]
     },
     "metadata": {},
     "output_type": "display_data"
    },
    {
     "data": {
      "text/html": [
       "<div style='width: 100%; background-color:#d5d9e0;padding-left: 10px; padding-bottom: 10px; padding-right: 10px; padding-top: 5px'><h3>This code is a part of Qiskit</h3><p>&copy; Copyright IBM 2017, 2021.</p><p>This code is licensed under the Apache License, Version 2.0. You may<br>obtain a copy of this license in the LICENSE.txt file in the root directory<br> of this source tree or at http://www.apache.org/licenses/LICENSE-2.0.<p>Any modifications or derivative works of this code must retain this<br>copyright notice, and modified files need to carry a notice indicating<br>that they have been altered from the originals.</p></div>"
      ],
      "text/plain": [
       "<IPython.core.display.HTML object>"
      ]
     },
     "metadata": {},
     "output_type": "display_data"
    }
   ],
   "source": [
    "import qiskit.tools.jupyter\n",
    "\n",
    "%qiskit_version_table\n",
    "%qiskit_copyright"
   ]
  },
  {
   "cell_type": "code",
   "execution_count": null,
   "id": "extensive-prescription",
   "metadata": {},
   "outputs": [],
   "source": []
  }
 ],
 "metadata": {
  "kernelspec": {
   "display_name": "Qiskit v0.35.0 (ipykernel)",
   "language": "python",
   "name": "python3"
  },
  "language_info": {
   "codemirror_mode": {
    "name": "ipython",
    "version": 3
   },
   "file_extension": ".py",
   "mimetype": "text/x-python",
   "name": "python",
   "nbconvert_exporter": "python",
   "pygments_lexer": "ipython3",
   "version": "3.8.13"
  },
  "widgets": {
   "application/vnd.jupyter.widget-state+json": {
    "state": {},
    "version_major": 2,
    "version_minor": 0
   }
  }
 },
 "nbformat": 4,
 "nbformat_minor": 5
}
